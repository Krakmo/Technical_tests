{
 "cells": [
  {
   "cell_type": "code",
   "execution_count": 9,
   "metadata": {},
   "outputs": [],
   "source": [
    "def panier_prix(panier_list):\n",
    "\n",
    "    prix_bttf = 0\n",
    "    prix_autres = 0\n",
    "    compteur = 0\n",
    "\n",
    "    for dvd in panier_list:\n",
    "\n",
    "        if \"back to the future\" in dvd.lower():\n",
    "            prix_bttf = prix_bttf + 15\n",
    "            compteur = compteur + 1\n",
    "\n",
    "        else:\n",
    "            prix_autres = prix_autres + 20 \n",
    "\n",
    "    if compteur == 2:\n",
    "        mod_prix = 0.9\n",
    "    \n",
    "    if compteur == 3:\n",
    "        mod_prix = 0.8\n",
    "\n",
    "    prix_tot = mod_prix*prix_bttf + prix_autres\n",
    "\n",
    "    return prix_tot"
   ]
  },
  {
   "cell_type": "code",
   "execution_count": 12,
   "metadata": {},
   "outputs": [
    {
     "data": {
      "text/plain": [
       "56.0"
      ]
     },
     "execution_count": 12,
     "metadata": {},
     "output_type": "execute_result"
    }
   ],
   "source": [
    "panier_prix(['Back to the future', 'Back to the future 2', 'Back to the future 3', 'La chèvre'])"
   ]
  },
  {
   "cell_type": "code",
   "execution_count": null,
   "metadata": {},
   "outputs": [],
   "source": []
  }
 ],
 "metadata": {
  "kernelspec": {
   "display_name": "Python 3.10.6 64-bit",
   "language": "python",
   "name": "python3"
  },
  "language_info": {
   "codemirror_mode": {
    "name": "ipython",
    "version": 3
   },
   "file_extension": ".py",
   "mimetype": "text/x-python",
   "name": "python",
   "nbconvert_exporter": "python",
   "pygments_lexer": "ipython3",
   "version": "3.10.6"
  },
  "orig_nbformat": 4,
  "vscode": {
   "interpreter": {
    "hash": "433cc1bc2ba1afc4c7aecbe90d56d0402d40d70cad9aced9d23accbfebeb612b"
   }
  }
 },
 "nbformat": 4,
 "nbformat_minor": 2
}
